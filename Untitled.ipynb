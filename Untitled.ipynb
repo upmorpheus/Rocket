{
 "cells": [
  {
   "cell_type": "code",
   "execution_count": 2,
   "id": "d92175a8-c26f-4a10-9808-1191212be368",
   "metadata": {},
   "outputs": [
    {
     "name": "stderr",
     "output_type": "stream",
     "text": [
      "2022-09-24 17:42:19.436 Generating grammar tables from /Users/alicehume/opt/anaconda3/envs/vyper/lib/python3.9/site-packages/blib2to3/Grammar.txt\n",
      "2022-09-24 17:42:19.466 Writing grammar tables to /Users/alicehume/Library/Caches/black/22.6.0/Grammar3.9.13.final.0.pickle\n",
      "2022-09-24 17:42:19.468 Writing failed: [Errno 2] No such file or directory: '/Users/alicehume/Library/Caches/black/22.6.0/tmp83rx2_xf'\n",
      "2022-09-24 17:42:19.470 Generating grammar tables from /Users/alicehume/opt/anaconda3/envs/vyper/lib/python3.9/site-packages/blib2to3/PatternGrammar.txt\n",
      "2022-09-24 17:42:19.475 Writing grammar tables to /Users/alicehume/Library/Caches/black/22.6.0/PatternGrammar3.9.13.final.0.pickle\n",
      "2022-09-24 17:42:19.481 Writing failed: [Errno 2] No such file or directory: '/Users/alicehume/Library/Caches/black/22.6.0/tmplm3v3gvu'\n"
     ]
    }
   ],
   "source": [
    "from brownie import accounts, network\n",
    "from dotenv import load_dotenv\n",
    "\n",
    "!source .env\n",
    "load_dotenv()\n",
    "network.connect(\"optimism-goerli\")"
   ]
  },
  {
   "cell_type": "code",
   "execution_count": 35,
   "id": "8c2ee690-afa2-45f2-8789-c186418e33de",
   "metadata": {},
   "outputs": [
    {
     "data": {
      "text/plain": [
       "'optimism-goerli'"
      ]
     },
     "execution_count": 35,
     "metadata": {},
     "output_type": "execute_result"
    }
   ],
   "source": [
    "network.show_active()"
   ]
  },
  {
   "cell_type": "code",
   "execution_count": 36,
   "id": "b43d353a-d94d-440c-94e0-217090ef5368",
   "metadata": {},
   "outputs": [
    {
     "data": {
      "text/plain": [
       "<LocalAccount '0xFE948CB2122FDD87bAf43dCe8aFa254B1242c199'>"
      ]
     },
     "execution_count": 36,
     "metadata": {},
     "output_type": "execute_result"
    }
   ],
   "source": [
    "acct = accounts.load(\"0\",\"0\")\n",
    "acct"
   ]
  },
  {
   "cell_type": "code",
   "execution_count": 5,
   "id": "0d2d5a45-1def-49e8-b685-dd589df466a3",
   "metadata": {},
   "outputs": [
    {
     "data": {
      "text/plain": [
       "DeltaGenerator(_root_container=0, _provided_cursor=None, _parent=None, _block_type=None, _form_data=None)"
      ]
     },
     "execution_count": 5,
     "metadata": {},
     "output_type": "execute_result"
    }
   ],
   "source": [
    "from web3 import Web3\n",
    "import json, datetime, urllib.request, os\n",
    "from dotenv import load_dotenv\n",
    "import streamlit as st\n",
    "from PIL import Image\n",
    "\n",
    "load_dotenv()\n",
    "w3 = Web3(Web3.HTTPProvider(os.environ[\"WEB3_PROVIDER_URI\"]))\n",
    "\n",
    "# Contracts setup\n",
    "# ABIs\n",
    "def load_contract():\n",
    "    with open('build/contracts/Pool.json') as abi_json:\n",
    "        projects_abi = json.load(abi_json)\n",
    "\n",
    "    # V2 Addresses\n",
    "    Rush_Vault = '0x8B2ec9170DcCF3D11ec43B434aEc8f4070288d95'\n",
    "    Rush_Vault = Web3.toChecksumAddress(Rush_Vault)\n",
    "        \n",
    "\n",
    "    # Adding contracts\n",
    "    contracts = w3.eth.contract(Rush_Vault, abi = projects_abi[\"abi\"])\n",
    "\n",
    "contract = load_contract()\n",
    "\n",
    "\n",
    "image = Image.open('./images/rush_flashloans/rush_flashloans.002.jpeg')\n",
    "st.image(image)\n"
   ]
  },
  {
   "cell_type": "code",
   "execution_count": 9,
   "id": "556bc409-21c4-465e-9f6e-8db4cf53ac00",
   "metadata": {},
   "outputs": [
    {
     "ename": "AttributeError",
     "evalue": "'NoneType' object has no attribute 'name'",
     "output_type": "error",
     "traceback": [
      "\u001b[0;31m---------------------------------------------------------------------------\u001b[0m",
      "\u001b[0;31mAttributeError\u001b[0m                            Traceback (most recent call last)",
      "Cell \u001b[0;32mIn [9], line 1\u001b[0m\n\u001b[0;32m----> 1\u001b[0m \u001b[43mcontract\u001b[49m\u001b[38;5;241;43m.\u001b[39;49m\u001b[43mname\u001b[49m()\n",
      "\u001b[0;31mAttributeError\u001b[0m: 'NoneType' object has no attribute 'name'"
     ]
    }
   ],
   "source": [
    "contract.name()\n"
   ]
  },
  {
   "cell_type": "code",
   "execution_count": 10,
   "id": "c0687464-f1e4-455a-8831-cad13171c949",
   "metadata": {},
   "outputs": [],
   "source": [
    "from web3 import Web3\n",
    "from solcx import compile_source"
   ]
  },
  {
   "cell_type": "code",
   "execution_count": 16,
   "id": "69894a2d-786e-4363-a90d-9c538552dc9c",
   "metadata": {},
   "outputs": [],
   "source": [
    "compiled_sol = compile_source(\n",
    "     '''\n",
    "    pragma solidity >0.5.0;\n",
    "\n",
    "     contract Greeter {\n",
    "         string public greeting;\n",
    "\n",
    "        constructor() public {\n",
    "             greeting = 'Hello';\n",
    "         }\n",
    "\n",
    "         function setGreeting(string memory _greeting) public {\n",
    "             greeting = _greeting;\n",
    "         }\n",
    "\n",
    "         function greet() view public returns (string memory) {\n",
    "             return greeting;\n",
    "         }\n",
    "    }\n",
    "   ''',\n",
    "    output_values=['abi', 'bin']\n",
    ")"
   ]
  },
  {
   "cell_type": "code",
   "execution_count": 17,
   "id": "5f0cdb3c-c27b-41be-b0b2-79c9b03b4965",
   "metadata": {},
   "outputs": [],
   "source": [
    "contract_id, contract_interface = compiled_sol.popitem()\n",
    "bytecode = contract_interface['bin']\n",
    "abi = contract_interface['abi']"
   ]
  },
  {
   "cell_type": "code",
   "execution_count": 19,
   "id": "e6947aa9-d7d5-401a-9ce8-81593aae269f",
   "metadata": {
    "collapsed": true,
    "jupyter": {
     "outputs_hidden": true
    },
    "tags": []
   },
   "outputs": [
    {
     "name": "stdout",
     "output_type": "stream",
     "text": [
      "Requirement already satisfied: web3[tester] in /Users/alicehume/opt/anaconda3/envs/vyper/lib/python3.9/site-packages (5.30.0)\n",
      "Collecting web3[tester]\n",
      "  Downloading web3-5.31.0-py3-none-any.whl (501 kB)\n",
      "\u001b[2K     \u001b[90m━━━━━━━━━━━━━━━━━━━━━━━━━━━━━━━━━━━━━━━\u001b[0m \u001b[32m501.5/501.5 kB\u001b[0m \u001b[31m2.8 MB/s\u001b[0m eta \u001b[36m0:00:00\u001b[0m00:01\u001b[0m00:01\u001b[0m\n",
      "\u001b[?25hRequirement already satisfied: lru-dict<2.0.0,>=1.1.6 in /Users/alicehume/opt/anaconda3/envs/vyper/lib/python3.9/site-packages (from web3[tester]) (1.1.8)\n",
      "Requirement already satisfied: eth-abi<3.0.0,>=2.0.0b6 in /Users/alicehume/opt/anaconda3/envs/vyper/lib/python3.9/site-packages (from web3[tester]) (2.2.0)\n",
      "Requirement already satisfied: eth-hash[pycryptodome]<1.0.0,>=0.2.0 in /Users/alicehume/opt/anaconda3/envs/vyper/lib/python3.9/site-packages (from web3[tester]) (0.3.3)\n",
      "Requirement already satisfied: hexbytes<1.0.0,>=0.1.0 in /Users/alicehume/opt/anaconda3/envs/vyper/lib/python3.9/site-packages (from web3[tester]) (0.2.2)\n",
      "Requirement already satisfied: protobuf<4,>=3.10.0 in /Users/alicehume/opt/anaconda3/envs/vyper/lib/python3.9/site-packages (from web3[tester]) (3.20.1)\n",
      "Requirement already satisfied: jsonschema<5,>=3.2.0 in /Users/alicehume/opt/anaconda3/envs/vyper/lib/python3.9/site-packages (from web3[tester]) (3.2.0)\n",
      "Requirement already satisfied: eth-account<0.6.0,>=0.5.9 in /Users/alicehume/opt/anaconda3/envs/vyper/lib/python3.9/site-packages (from web3[tester]) (0.5.9)\n",
      "Requirement already satisfied: requests<3.0.0,>=2.16.0 in /Users/alicehume/opt/anaconda3/envs/vyper/lib/python3.9/site-packages (from web3[tester]) (2.28.1)\n",
      "Requirement already satisfied: websockets<10,>=9.1 in /Users/alicehume/opt/anaconda3/envs/vyper/lib/python3.9/site-packages (from web3[tester]) (9.1)\n",
      "Requirement already satisfied: ipfshttpclient==0.8.0a2 in /Users/alicehume/opt/anaconda3/envs/vyper/lib/python3.9/site-packages (from web3[tester]) (0.8.0a2)\n",
      "Requirement already satisfied: eth-utils<2.0.0,>=1.9.5 in /Users/alicehume/opt/anaconda3/envs/vyper/lib/python3.9/site-packages (from web3[tester]) (1.10.0)\n",
      "Requirement already satisfied: eth-typing<3.0.0,>=2.0.0 in /Users/alicehume/opt/anaconda3/envs/vyper/lib/python3.9/site-packages (from web3[tester]) (2.3.0)\n",
      "Requirement already satisfied: eth-rlp<0.3 in /Users/alicehume/opt/anaconda3/envs/vyper/lib/python3.9/site-packages (from web3[tester]) (0.2.1)\n",
      "Requirement already satisfied: aiohttp<4,>=3.7.4.post0 in /Users/alicehume/opt/anaconda3/envs/vyper/lib/python3.9/site-packages (from web3[tester]) (3.8.1)\n",
      "Collecting eth-tester[py-evm]==v0.6.0-beta.6\n",
      "  Downloading eth_tester-0.6.0b6-py3-none-any.whl (69 kB)\n",
      "\u001b[2K     \u001b[90m━━━━━━━━━━━━━━━━━━━━━━━━━━━━━━━━━━━━━━━━\u001b[0m \u001b[32m69.1/69.1 kB\u001b[0m \u001b[31m1.9 MB/s\u001b[0m eta \u001b[36m0:00:00\u001b[0m\n",
      "\u001b[?25hCollecting py-geth<4,>=3.9.1\n",
      "  Using cached py_geth-3.9.1-py3-none-any.whl (23 kB)\n",
      "Requirement already satisfied: eth-keys<0.4.0,>=0.3.4 in /Users/alicehume/opt/anaconda3/envs/vyper/lib/python3.9/site-packages (from eth-tester[py-evm]==v0.6.0-beta.6->web3[tester]) (0.3.4)\n",
      "Requirement already satisfied: semantic-version<3.0.0,>=2.6.0 in /Users/alicehume/opt/anaconda3/envs/vyper/lib/python3.9/site-packages (from eth-tester[py-evm]==v0.6.0-beta.6->web3[tester]) (2.8.5)\n",
      "Requirement already satisfied: rlp<3,>=1.1.0 in /Users/alicehume/opt/anaconda3/envs/vyper/lib/python3.9/site-packages (from eth-tester[py-evm]==v0.6.0-beta.6->web3[tester]) (2.0.1)\n",
      "Collecting py-evm==0.5.0a3\n",
      "  Downloading py_evm-0.5.0a3-py3-none-any.whl (276 kB)\n",
      "\u001b[2K     \u001b[90m━━━━━━━━━━━━━━━━━━━━━━━━━━━━━━━━━━━━━━━\u001b[0m \u001b[32m276.5/276.5 kB\u001b[0m \u001b[31m2.4 MB/s\u001b[0m eta \u001b[36m0:00:00\u001b[0ma \u001b[36m0:00:01\u001b[0m\n",
      "\u001b[?25hRequirement already satisfied: multiaddr>=0.0.7 in /Users/alicehume/opt/anaconda3/envs/vyper/lib/python3.9/site-packages (from ipfshttpclient==0.8.0a2->web3[tester]) (0.0.9)\n",
      "Requirement already satisfied: cached-property<2,>=1.5.1 in /Users/alicehume/opt/anaconda3/envs/vyper/lib/python3.9/site-packages (from py-evm==0.5.0a3->eth-tester[py-evm]==v0.6.0-beta.6->web3[tester]) (1.5.2)\n",
      "Requirement already satisfied: mypy-extensions<1.0.0,>=0.4.1 in /Users/alicehume/opt/anaconda3/envs/vyper/lib/python3.9/site-packages (from py-evm==0.5.0a3->eth-tester[py-evm]==v0.6.0-beta.6->web3[tester]) (0.4.3)\n",
      "Requirement already satisfied: pyethash<1.0.0,>=0.1.27 in /Users/alicehume/opt/anaconda3/envs/vyper/lib/python3.9/site-packages (from py-evm==0.5.0a3->eth-tester[py-evm]==v0.6.0-beta.6->web3[tester]) (0.1.27)\n",
      "Requirement already satisfied: eth-bloom<2.0.0,>=1.0.3 in /Users/alicehume/opt/anaconda3/envs/vyper/lib/python3.9/site-packages (from py-evm==0.5.0a3->eth-tester[py-evm]==v0.6.0-beta.6->web3[tester]) (1.0.4)\n",
      "Collecting py-ecc<6.0.0,>=1.4.7\n",
      "  Downloading py_ecc-5.2.0-py3-none-any.whl (43 kB)\n",
      "\u001b[2K     \u001b[90m━━━━━━━━━━━━━━━━━━━━━━━━━━━━━━━━━━━━━━━━\u001b[0m \u001b[32m43.4/43.4 kB\u001b[0m \u001b[31m1.5 MB/s\u001b[0m eta \u001b[36m0:00:00\u001b[0m\n",
      "\u001b[?25hCollecting trie==2.0.0-alpha.5\n",
      "  Downloading trie-2.0.0a5-py3-none-any.whl (38 kB)\n",
      "Requirement already satisfied: sortedcontainers<3,>=2.1.0 in /Users/alicehume/opt/anaconda3/envs/vyper/lib/python3.9/site-packages (from trie==2.0.0-alpha.5->py-evm==0.5.0a3->eth-tester[py-evm]==v0.6.0-beta.6->web3[tester]) (2.4.0)\n",
      "Collecting typing-extensions<4,>=3.7.4\n",
      "  Using cached typing_extensions-3.10.0.2-py3-none-any.whl (26 kB)\n",
      "Requirement already satisfied: multidict<7.0,>=4.5 in /Users/alicehume/opt/anaconda3/envs/vyper/lib/python3.9/site-packages (from aiohttp<4,>=3.7.4.post0->web3[tester]) (6.0.2)\n",
      "Requirement already satisfied: aiosignal>=1.1.2 in /Users/alicehume/opt/anaconda3/envs/vyper/lib/python3.9/site-packages (from aiohttp<4,>=3.7.4.post0->web3[tester]) (1.2.0)\n",
      "Requirement already satisfied: attrs>=17.3.0 in /Users/alicehume/opt/anaconda3/envs/vyper/lib/python3.9/site-packages (from aiohttp<4,>=3.7.4.post0->web3[tester]) (22.1.0)\n",
      "Requirement already satisfied: yarl<2.0,>=1.0 in /Users/alicehume/opt/anaconda3/envs/vyper/lib/python3.9/site-packages (from aiohttp<4,>=3.7.4.post0->web3[tester]) (1.8.1)\n",
      "Requirement already satisfied: frozenlist>=1.1.1 in /Users/alicehume/opt/anaconda3/envs/vyper/lib/python3.9/site-packages (from aiohttp<4,>=3.7.4.post0->web3[tester]) (1.3.1)\n",
      "Requirement already satisfied: charset-normalizer<3.0,>=2.0 in /Users/alicehume/opt/anaconda3/envs/vyper/lib/python3.9/site-packages (from aiohttp<4,>=3.7.4.post0->web3[tester]) (2.1.0)\n",
      "Requirement already satisfied: async-timeout<5.0,>=4.0.0a3 in /Users/alicehume/opt/anaconda3/envs/vyper/lib/python3.9/site-packages (from aiohttp<4,>=3.7.4.post0->web3[tester]) (4.0.2)\n",
      "Requirement already satisfied: parsimonious<0.9.0,>=0.8.0 in /Users/alicehume/opt/anaconda3/envs/vyper/lib/python3.9/site-packages (from eth-abi<3.0.0,>=2.0.0b6->web3[tester]) (0.8.1)\n",
      "Requirement already satisfied: eth-keyfile<0.6.0,>=0.5.0 in /Users/alicehume/opt/anaconda3/envs/vyper/lib/python3.9/site-packages (from eth-account<0.6.0,>=0.5.9->web3[tester]) (0.5.1)\n",
      "Requirement already satisfied: bitarray<3,>=1.2.1 in /Users/alicehume/opt/anaconda3/envs/vyper/lib/python3.9/site-packages (from eth-account<0.6.0,>=0.5.9->web3[tester]) (2.6.0)\n",
      "Requirement already satisfied: pycryptodome<4,>=3.6.6 in /Users/alicehume/opt/anaconda3/envs/vyper/lib/python3.9/site-packages (from eth-hash[pycryptodome]<1.0.0,>=0.2.0->web3[tester]) (3.15.0)\n",
      "Requirement already satisfied: cytoolz<1.0.0,>=0.10.1 in /Users/alicehume/opt/anaconda3/envs/vyper/lib/python3.9/site-packages (from eth-utils<2.0.0,>=1.9.5->web3[tester]) (0.12.0)\n",
      "Requirement already satisfied: setuptools in /Users/alicehume/opt/anaconda3/envs/vyper/lib/python3.9/site-packages (from jsonschema<5,>=3.2.0->web3[tester]) (63.4.1)\n",
      "Requirement already satisfied: pyrsistent>=0.14.0 in /Users/alicehume/opt/anaconda3/envs/vyper/lib/python3.9/site-packages (from jsonschema<5,>=3.2.0->web3[tester]) (0.18.1)\n",
      "Requirement already satisfied: six>=1.11.0 in /Users/alicehume/opt/anaconda3/envs/vyper/lib/python3.9/site-packages (from jsonschema<5,>=3.2.0->web3[tester]) (1.16.0)\n",
      "Requirement already satisfied: idna<4,>=2.5 in /Users/alicehume/opt/anaconda3/envs/vyper/lib/python3.9/site-packages (from requests<3.0.0,>=2.16.0->web3[tester]) (3.3)\n",
      "Requirement already satisfied: urllib3<1.27,>=1.21.1 in /Users/alicehume/opt/anaconda3/envs/vyper/lib/python3.9/site-packages (from requests<3.0.0,>=2.16.0->web3[tester]) (1.26.11)\n",
      "Requirement already satisfied: certifi>=2017.4.17 in /Users/alicehume/opt/anaconda3/envs/vyper/lib/python3.9/site-packages (from requests<3.0.0,>=2.16.0->web3[tester]) (2022.6.15)\n",
      "Requirement already satisfied: toolz>=0.8.0 in /Users/alicehume/opt/anaconda3/envs/vyper/lib/python3.9/site-packages (from cytoolz<1.0.0,>=0.10.1->eth-utils<2.0.0,>=1.9.5->web3[tester]) (0.12.0)\n",
      "Collecting pysha3<2.0.0,>=1.0.0\n",
      "  Using cached pysha3-1.0.2-cp39-cp39-macosx_10_9_x86_64.whl\n",
      "Requirement already satisfied: netaddr in /Users/alicehume/opt/anaconda3/envs/vyper/lib/python3.9/site-packages (from multiaddr>=0.0.7->ipfshttpclient==0.8.0a2->web3[tester]) (0.8.0)\n",
      "Requirement already satisfied: varint in /Users/alicehume/opt/anaconda3/envs/vyper/lib/python3.9/site-packages (from multiaddr>=0.0.7->ipfshttpclient==0.8.0a2->web3[tester]) (1.0.2)\n",
      "Requirement already satisfied: base58 in /Users/alicehume/opt/anaconda3/envs/vyper/lib/python3.9/site-packages (from multiaddr>=0.0.7->ipfshttpclient==0.8.0a2->web3[tester]) (2.1.1)\n",
      "Installing collected packages: typing-extensions, pysha3, py-geth, py-ecc, trie, py-evm, web3, eth-tester\n",
      "  Attempting uninstall: typing-extensions\n",
      "    Found existing installation: typing_extensions 4.3.0\n",
      "    Uninstalling typing_extensions-4.3.0:\n",
      "      Successfully uninstalled typing_extensions-4.3.0\n",
      "  Attempting uninstall: py-ecc\n",
      "    Found existing installation: py-ecc 6.0.0\n",
      "    Uninstalling py-ecc-6.0.0:\n",
      "      Successfully uninstalled py-ecc-6.0.0\n",
      "  Attempting uninstall: trie\n",
      "    Found existing installation: trie 2.0.1\n",
      "    Uninstalling trie-2.0.1:\n",
      "      Successfully uninstalled trie-2.0.1\n",
      "  Attempting uninstall: py-evm\n",
      "    Found existing installation: py-evm 0.6.0a1\n",
      "    Uninstalling py-evm-0.6.0a1:\n",
      "      Successfully uninstalled py-evm-0.6.0a1\n",
      "  Attempting uninstall: web3\n",
      "    Found existing installation: web3 5.30.0\n",
      "    Uninstalling web3-5.30.0:\n",
      "      Successfully uninstalled web3-5.30.0\n",
      "\u001b[31mERROR: pip's dependency resolver does not currently take into account all the packages that are installed. This behaviour is the source of the following dependency conflicts.\n",
      "pydantic 1.10.2 requires typing-extensions>=4.1.0, but you have typing-extensions 3.10.0.2 which is incompatible.\n",
      "eth-brownie 1.19.1 requires web3==5.30.0, but you have web3 5.31.0 which is incompatible.\n",
      "datapane 0.15.1 requires toolz<0.12.0,>=0.11.0, but you have toolz 0.12.0 which is incompatible.\u001b[0m\u001b[31m\n",
      "\u001b[0mSuccessfully installed eth-tester-0.6.0b6 py-ecc-5.2.0 py-evm-0.5.0a3 py-geth-3.9.1 pysha3-1.0.2 trie-2.0.0a5 typing-extensions-3.10.0.2 web3-5.31.0\n"
     ]
    }
   ],
   "source": [
    "!pip install -U \"web3[tester]\""
   ]
  },
  {
   "cell_type": "code",
   "execution_count": 20,
   "id": "3fafc84f-cbfc-4793-a8af-f89251e2ace2",
   "metadata": {},
   "outputs": [],
   "source": [
    "w3 = Web3(Web3.EthereumTesterProvider())"
   ]
  },
  {
   "cell_type": "code",
   "execution_count": 21,
   "id": "38d963f4-205b-4d17-a6dc-5dfd6d6a7c59",
   "metadata": {},
   "outputs": [],
   "source": [
    "w3.eth.default_account = w3.eth.accounts[0]"
   ]
  },
  {
   "cell_type": "code",
   "execution_count": 22,
   "id": "c3bb8f79-f685-423a-8171-9144b8da3bd9",
   "metadata": {},
   "outputs": [],
   "source": [
    "Greeter = w3.eth.contract(abi=abi, bytecode=bytecode)"
   ]
  },
  {
   "cell_type": "code",
   "execution_count": 23,
   "id": "472c907a-a285-45be-ab5e-e87b83d98a87",
   "metadata": {},
   "outputs": [
    {
     "name": "stderr",
     "output_type": "stream",
     "text": [
      "/Users/alicehume/opt/anaconda3/envs/vyper/lib/python3.9/site-packages/eth_abi/codec.py:87: DeprecationWarning: abi.encode_abi() and abi.encode_abi_packed() are deprecated and will be removed in version 4.0.0 in favor of abi.encode() and abi.encode_packed(), respectively\n",
      "  warnings.warn(\n"
     ]
    }
   ],
   "source": [
    "tx_hash = Greeter.constructor().transact()"
   ]
  },
  {
   "cell_type": "code",
   "execution_count": 24,
   "id": "616caec8-827e-473b-b23a-a7d5b0aec676",
   "metadata": {},
   "outputs": [],
   "source": [
    "tx_receipt = w3.eth.wait_for_transaction_receipt(tx_hash)"
   ]
  },
  {
   "cell_type": "code",
   "execution_count": 25,
   "id": "0454443f-3c26-4fa1-bcdc-260c45f29573",
   "metadata": {},
   "outputs": [],
   "source": [
    "greeter = w3.eth.contract(\n",
    "    address=tx_receipt.contractAddress,\n",
    "    abi=abi\n",
    ")"
   ]
  },
  {
   "cell_type": "code",
   "execution_count": 26,
   "id": "13a37302-4b2c-4cc2-bccb-0e2bd7cb215a",
   "metadata": {},
   "outputs": [
    {
     "name": "stderr",
     "output_type": "stream",
     "text": [
      "/Users/alicehume/opt/anaconda3/envs/vyper/lib/python3.9/site-packages/eth_abi/codec.py:191: DeprecationWarning: abi.decode_abi() is deprecated and will be removed in version 4.0.0 in favor of abi.decode()\n",
      "  warnings.warn(\n"
     ]
    },
    {
     "data": {
      "text/plain": [
       "'Hello'"
      ]
     },
     "execution_count": 26,
     "metadata": {},
     "output_type": "execute_result"
    }
   ],
   "source": [
    "greeter.functions.greet().call()"
   ]
  },
  {
   "cell_type": "code",
   "execution_count": 27,
   "id": "f374ace2-a0c7-4d8d-a210-e34b0dbedb65",
   "metadata": {},
   "outputs": [],
   "source": [
    "tx_hash = greeter.functions.setGreeting('Nihao').transact()"
   ]
  },
  {
   "cell_type": "code",
   "execution_count": 28,
   "id": "fc5c63f2-8ab1-4830-8396-60138e46792e",
   "metadata": {},
   "outputs": [],
   "source": [
    "tx_receipt = w3.eth.wait_for_transaction_receipt(tx_hash)"
   ]
  },
  {
   "cell_type": "code",
   "execution_count": 29,
   "id": "a4313fde-4165-4011-9752-91b300b47cbd",
   "metadata": {},
   "outputs": [
    {
     "data": {
      "text/plain": [
       "'Nihao'"
      ]
     },
     "execution_count": 29,
     "metadata": {},
     "output_type": "execute_result"
    }
   ],
   "source": [
    "greeter.functions.greet().call()"
   ]
  },
  {
   "cell_type": "code",
   "execution_count": 30,
   "id": "02d7d0bd-a190-4924-b080-aa8c357aca87",
   "metadata": {},
   "outputs": [
    {
     "data": {
      "text/plain": [
       "'0x7E5F4552091A69125d5DfCb7b8C2659029395Bdf'"
      ]
     },
     "execution_count": 30,
     "metadata": {},
     "output_type": "execute_result"
    }
   ],
   "source": [
    "w3.eth.accounts[0]"
   ]
  },
  {
   "cell_type": "code",
   "execution_count": 33,
   "id": "ebe66761-4f46-49b1-8fd7-7d9519a12c0c",
   "metadata": {},
   "outputs": [],
   "source": [
    "deploy_txn = token_contract.constructor(web3.eth.coinbase, 12345).transact()"
   ]
  },
  {
   "cell_type": "code",
   "execution_count": 38,
   "id": "c5d158e2-3cb2-4257-92fa-1108c6e30cb6",
   "metadata": {},
   "outputs": [],
   "source": [
    "w3 = Web3(Web3.HTTPProvider(os.environ[\"WEB3_PROVIDER_URI\"]))"
   ]
  },
  {
   "cell_type": "code",
   "execution_count": 39,
   "id": "18c473f4-2698-428f-a9f7-89f8bc1d97ad",
   "metadata": {},
   "outputs": [
    {
     "ename": "AttributeError",
     "evalue": "'Web3' object has no attribute 'is_connected'",
     "output_type": "error",
     "traceback": [
      "\u001b[0;31m---------------------------------------------------------------------------\u001b[0m",
      "\u001b[0;31mAttributeError\u001b[0m                            Traceback (most recent call last)",
      "Cell \u001b[0;32mIn [39], line 1\u001b[0m\n\u001b[0;32m----> 1\u001b[0m \u001b[43mw3\u001b[49m\u001b[38;5;241;43m.\u001b[39;49m\u001b[43mis_connected\u001b[49m()\n",
      "\u001b[0;31mAttributeError\u001b[0m: 'Web3' object has no attribute 'is_connected'"
     ]
    }
   ],
   "source": [
    "w3.is_connected()"
   ]
  },
  {
   "cell_type": "code",
   "execution_count": null,
   "id": "20f06732-1477-4745-906d-3dfed3a15112",
   "metadata": {},
   "outputs": [],
   "source": []
  }
 ],
 "metadata": {
  "kernelspec": {
   "display_name": "vyper",
   "language": "python",
   "name": "vyper"
  },
  "language_info": {
   "codemirror_mode": {
    "name": "ipython",
    "version": 3
   },
   "file_extension": ".py",
   "mimetype": "text/x-python",
   "name": "python",
   "nbconvert_exporter": "python",
   "pygments_lexer": "ipython3",
   "version": "3.9.13"
  }
 },
 "nbformat": 4,
 "nbformat_minor": 5
}
