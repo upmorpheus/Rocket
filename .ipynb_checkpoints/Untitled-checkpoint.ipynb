{
 "cells": [
  {
   "cell_type": "code",
   "execution_count": 1,
   "id": "d92175a8-c26f-4a10-9808-1191212be368",
   "metadata": {},
   "outputs": [],
   "source": [
    "from brownie import accounts, network\n",
    "from dotenv import load_dotenv\n",
    "\n",
    "!source .env\n",
    "load_dotenv()\n",
    "network.connect(\"optimism-goerli\")"
   ]
  },
  {
   "cell_type": "code",
   "execution_count": 5,
   "id": "8c2ee690-afa2-45f2-8789-c186418e33de",
   "metadata": {},
   "outputs": [
    {
     "data": {
      "text/plain": [
       "'optimism-goerli'"
      ]
     },
     "execution_count": 5,
     "metadata": {},
     "output_type": "execute_result"
    }
   ],
   "source": [
    "network.show_active()"
   ]
  },
  {
   "cell_type": "code",
   "execution_count": 17,
   "id": "b43d353a-d94d-440c-94e0-217090ef5368",
   "metadata": {},
   "outputs": [
    {
     "data": {
      "text/plain": [
       "<LocalAccount '0xFE948CB2122FDD87bAf43dCe8aFa254B1242c199'>"
      ]
     },
     "execution_count": 17,
     "metadata": {},
     "output_type": "execute_result"
    }
   ],
   "source": [
    "acct = accounts.load(\"0\",\"0\")\n",
    "acct"
   ]
  },
  {
   "cell_type": "code",
   "execution_count": 6,
   "id": "0d2d5a45-1def-49e8-b685-dd589df466a3",
   "metadata": {},
   "outputs": [
    {
     "name": "stderr",
     "output_type": "stream",
     "text": [
      "2022-09-24 17:26:45.713 \n",
      "  \u001b[33m\u001b[1mWarning:\u001b[0m to view this Streamlit app on a browser, run it with the following\n",
      "  command:\n",
      "\n",
      "    streamlit run /Users/alicehume/opt/anaconda3/envs/vyper/lib/python3.9/site-packages/ipykernel_launcher.py [ARGUMENTS]\n"
     ]
    },
    {
     "data": {
      "text/plain": [
       "DeltaGenerator(_root_container=0, _provided_cursor=None, _parent=None, _block_type=None, _form_data=None)"
      ]
     },
     "execution_count": 6,
     "metadata": {},
     "output_type": "execute_result"
    }
   ],
   "source": [
    "from web3 import Web3\n",
    "import json, datetime, urllib.request, os\n",
    "from dotenv import load_dotenv\n",
    "import streamlit as st\n",
    "from PIL import Image\n",
    "\n",
    "load_dotenv()\n",
    "w3 = Web3(Web3.HTTPProvider(os.environ[\"WEB3_PROVIDER_URI\"]))\n",
    "\n",
    "# Contracts setup\n",
    "# ABIs\n",
    "def load_contract():\n",
    "    with open('build/contracts/Pool.json') as abi_json:\n",
    "        projects_abi = json.load(abi_json)\n",
    "\n",
    "    # V2 Addresses\n",
    "    Rush_Vault = '0x8B2ec9170DcCF3D11ec43B434aEc8f4070288d95'\n",
    "    Rush_Vault = Web3.toChecksumAddress(Rush_Vault)\n",
    "        \n",
    "\n",
    "    # Adding contracts\n",
    "    contracts = w3.eth.contract(Rush_Vault, abi = projects_abi[\"abi\"])\n",
    "\n",
    "contract = load_contract()\n",
    "\n",
    "\n",
    "image = Image.open('./images/rush_flashloans/rush_flashloans.002.jpeg')\n",
    "st.image(image)\n"
   ]
  },
  {
   "cell_type": "code",
   "execution_count": 12,
   "id": "556bc409-21c4-465e-9f6e-8db4cf53ac00",
   "metadata": {},
   "outputs": [
    {
     "name": "stdout",
     "output_type": "stream",
     "text": [
      "[{'inputs': [{'internalType': 'contract IPoolAddressesProvider', 'name': 'provider', 'type': 'address'}], 'stateMutability': 'nonpayable', 'type': 'constructor'}, {'anonymous': False, 'inputs': [{'indexed': True, 'internalType': 'address', 'name': 'reserve', 'type': 'address'}, {'indexed': True, 'internalType': 'address', 'name': 'backer', 'type': 'address'}, {'indexed': False, 'internalType': 'uint256', 'name': 'amount', 'type': 'uint256'}, {'indexed': False, 'internalType': 'uint256', 'name': 'fee', 'type': 'uint256'}], 'name': 'BackUnbacked', 'type': 'event'}, {'anonymous': False, 'inputs': [{'indexed': True, 'internalType': 'address', 'name': 'reserve', 'type': 'address'}, {'indexed': False, 'internalType': 'address', 'name': 'user', 'type': 'address'}, {'indexed': True, 'internalType': 'address', 'name': 'onBehalfOf', 'type': 'address'}, {'indexed': False, 'internalType': 'uint256', 'name': 'amount', 'type': 'uint256'}, {'indexed': False, 'internalType': 'enum DataTypes.InterestRateMode', 'name': 'interestRateMode', 'type': 'uint8'}, {'indexed': False, 'internalType': 'uint256', 'name': 'borrowRate', 'type': 'uint256'}, {'indexed': True, 'internalType': 'uint16', 'name': 'referralCode', 'type': 'uint16'}], 'name': 'Borrow', 'type': 'event'}, {'anonymous': False, 'inputs': [{'indexed': True, 'internalType': 'address', 'name': 'target', 'type': 'address'}, {'indexed': False, 'internalType': 'address', 'name': 'initiator', 'type': 'address'}, {'indexed': True, 'internalType': 'address', 'name': 'asset', 'type': 'address'}, {'indexed': False, 'internalType': 'uint256', 'name': 'amount', 'type': 'uint256'}, {'indexed': False, 'internalType': 'enum DataTypes.InterestRateMode', 'name': 'interestRateMode', 'type': 'uint8'}, {'indexed': False, 'internalType': 'uint256', 'name': 'premium', 'type': 'uint256'}, {'indexed': True, 'internalType': 'uint16', 'name': 'referralCode', 'type': 'uint16'}], 'name': 'FlashLoan', 'type': 'event'}, {'anonymous': False, 'inputs': [{'indexed': True, 'internalType': 'address', 'name': 'asset', 'type': 'address'}, {'indexed': False, 'internalType': 'uint256', 'name': 'totalDebt', 'type': 'uint256'}], 'name': 'IsolationModeTotalDebtUpdated', 'type': 'event'}, {'anonymous': False, 'inputs': [{'indexed': True, 'internalType': 'address', 'name': 'collateralAsset', 'type': 'address'}, {'indexed': True, 'internalType': 'address', 'name': 'debtAsset', 'type': 'address'}, {'indexed': True, 'internalType': 'address', 'name': 'user', 'type': 'address'}, {'indexed': False, 'internalType': 'uint256', 'name': 'debtToCover', 'type': 'uint256'}, {'indexed': False, 'internalType': 'uint256', 'name': 'liquidatedCollateralAmount', 'type': 'uint256'}, {'indexed': False, 'internalType': 'address', 'name': 'liquidator', 'type': 'address'}, {'indexed': False, 'internalType': 'bool', 'name': 'receiveAToken', 'type': 'bool'}], 'name': 'LiquidationCall', 'type': 'event'}, {'anonymous': False, 'inputs': [{'indexed': True, 'internalType': 'address', 'name': 'reserve', 'type': 'address'}, {'indexed': False, 'internalType': 'address', 'name': 'user', 'type': 'address'}, {'indexed': True, 'internalType': 'address', 'name': 'onBehalfOf', 'type': 'address'}, {'indexed': False, 'internalType': 'uint256', 'name': 'amount', 'type': 'uint256'}, {'indexed': True, 'internalType': 'uint16', 'name': 'referralCode', 'type': 'uint16'}], 'name': 'MintUnbacked', 'type': 'event'}, {'anonymous': False, 'inputs': [{'indexed': True, 'internalType': 'address', 'name': 'reserve', 'type': 'address'}, {'indexed': False, 'internalType': 'uint256', 'name': 'amountMinted', 'type': 'uint256'}], 'name': 'MintedToTreasury', 'type': 'event'}, {'anonymous': False, 'inputs': [{'indexed': True, 'internalType': 'address', 'name': 'reserve', 'type': 'address'}, {'indexed': True, 'internalType': 'address', 'name': 'user', 'type': 'address'}], 'name': 'RebalanceStableBorrowRate', 'type': 'event'}, {'anonymous': False, 'inputs': [{'indexed': True, 'internalType': 'address', 'name': 'reserve', 'type': 'address'}, {'indexed': True, 'internalType': 'address', 'name': 'user', 'type': 'address'}, {'indexed': True, 'internalType': 'address', 'name': 'repayer', 'type': 'address'}, {'indexed': False, 'internalType': 'uint256', 'name': 'amount', 'type': 'uint256'}, {'indexed': False, 'internalType': 'bool', 'name': 'useATokens', 'type': 'bool'}], 'name': 'Repay', 'type': 'event'}, {'anonymous': False, 'inputs': [{'indexed': True, 'internalType': 'address', 'name': 'reserve', 'type': 'address'}, {'indexed': False, 'internalType': 'uint256', 'name': 'liquidityRate', 'type': 'uint256'}, {'indexed': False, 'internalType': 'uint256', 'name': 'stableBorrowRate', 'type': 'uint256'}, {'indexed': False, 'internalType': 'uint256', 'name': 'variableBorrowRate', 'type': 'uint256'}, {'indexed': False, 'internalType': 'uint256', 'name': 'liquidityIndex', 'type': 'uint256'}, {'indexed': False, 'internalType': 'uint256', 'name': 'variableBorrowIndex', 'type': 'uint256'}], 'name': 'ReserveDataUpdated', 'type': 'event'}, {'anonymous': False, 'inputs': [{'indexed': True, 'internalType': 'address', 'name': 'reserve', 'type': 'address'}, {'indexed': True, 'internalType': 'address', 'name': 'user', 'type': 'address'}], 'name': 'ReserveUsedAsCollateralDisabled', 'type': 'event'}, {'anonymous': False, 'inputs': [{'indexed': True, 'internalType': 'address', 'name': 'reserve', 'type': 'address'}, {'indexed': True, 'internalType': 'address', 'name': 'user', 'type': 'address'}], 'name': 'ReserveUsedAsCollateralEnabled', 'type': 'event'}, {'anonymous': False, 'inputs': [{'indexed': True, 'internalType': 'address', 'name': 'reserve', 'type': 'address'}, {'indexed': False, 'internalType': 'address', 'name': 'user', 'type': 'address'}, {'indexed': True, 'internalType': 'address', 'name': 'onBehalfOf', 'type': 'address'}, {'indexed': False, 'internalType': 'uint256', 'name': 'amount', 'type': 'uint256'}, {'indexed': True, 'internalType': 'uint16', 'name': 'referralCode', 'type': 'uint16'}], 'name': 'Supply', 'type': 'event'}, {'anonymous': False, 'inputs': [{'indexed': True, 'internalType': 'address', 'name': 'reserve', 'type': 'address'}, {'indexed': True, 'internalType': 'address', 'name': 'user', 'type': 'address'}, {'indexed': False, 'internalType': 'enum DataTypes.InterestRateMode', 'name': 'interestRateMode', 'type': 'uint8'}], 'name': 'SwapBorrowRateMode', 'type': 'event'}, {'anonymous': False, 'inputs': [{'indexed': True, 'internalType': 'address', 'name': 'user', 'type': 'address'}, {'indexed': False, 'internalType': 'uint8', 'name': 'categoryId', 'type': 'uint8'}], 'name': 'UserEModeSet', 'type': 'event'}, {'anonymous': False, 'inputs': [{'indexed': True, 'internalType': 'address', 'name': 'reserve', 'type': 'address'}, {'indexed': True, 'internalType': 'address', 'name': 'user', 'type': 'address'}, {'indexed': True, 'internalType': 'address', 'name': 'to', 'type': 'address'}, {'indexed': False, 'internalType': 'uint256', 'name': 'amount', 'type': 'uint256'}], 'name': 'Withdraw', 'type': 'event'}, {'inputs': [], 'name': 'ADDRESSES_PROVIDER', 'outputs': [{'internalType': 'contract IPoolAddressesProvider', 'name': '', 'type': 'address'}], 'stateMutability': 'view', 'type': 'function'}, {'inputs': [], 'name': 'BRIDGE_PROTOCOL_FEE', 'outputs': [{'internalType': 'uint256', 'name': '', 'type': 'uint256'}], 'stateMutability': 'view', 'type': 'function'}, {'inputs': [], 'name': 'FLASHLOAN_PREMIUM_TOTAL', 'outputs': [{'internalType': 'uint128', 'name': '', 'type': 'uint128'}], 'stateMutability': 'view', 'type': 'function'}, {'inputs': [], 'name': 'FLASHLOAN_PREMIUM_TO_PROTOCOL', 'outputs': [{'internalType': 'uint128', 'name': '', 'type': 'uint128'}], 'stateMutability': 'view', 'type': 'function'}, {'inputs': [], 'name': 'MAX_NUMBER_RESERVES', 'outputs': [{'internalType': 'uint16', 'name': '', 'type': 'uint16'}], 'stateMutability': 'view', 'type': 'function'}, {'inputs': [], 'name': 'MAX_STABLE_RATE_BORROW_SIZE_PERCENT', 'outputs': [{'internalType': 'uint256', 'name': '', 'type': 'uint256'}], 'stateMutability': 'view', 'type': 'function'}, {'inputs': [], 'name': 'POOL_REVISION', 'outputs': [{'internalType': 'uint256', 'name': '', 'type': 'uint256'}], 'stateMutability': 'view', 'type': 'function'}, {'inputs': [{'internalType': 'address', 'name': 'asset', 'type': 'address'}, {'internalType': 'uint256', 'name': 'amount', 'type': 'uint256'}, {'internalType': 'uint256', 'name': 'fee', 'type': 'uint256'}], 'name': 'backUnbacked', 'outputs': [], 'stateMutability': 'nonpayable', 'type': 'function'}, {'inputs': [{'internalType': 'address', 'name': 'asset', 'type': 'address'}, {'internalType': 'uint256', 'name': 'amount', 'type': 'uint256'}, {'internalType': 'uint256', 'name': 'interestRateMode', 'type': 'uint256'}, {'internalType': 'uint16', 'name': 'referralCode', 'type': 'uint16'}, {'internalType': 'address', 'name': 'onBehalfOf', 'type': 'address'}], 'name': 'borrow', 'outputs': [], 'stateMutability': 'nonpayable', 'type': 'function'}, {'inputs': [{'internalType': 'uint8', 'name': 'id', 'type': 'uint8'}, {'components': [{'internalType': 'uint16', 'name': 'ltv', 'type': 'uint16'}, {'internalType': 'uint16', 'name': 'liquidationThreshold', 'type': 'uint16'}, {'internalType': 'uint16', 'name': 'liquidationBonus', 'type': 'uint16'}, {'internalType': 'address', 'name': 'priceSource', 'type': 'address'}, {'internalType': 'string', 'name': 'label', 'type': 'string'}], 'internalType': 'struct DataTypes.EModeCategory', 'name': 'category', 'type': 'tuple'}], 'name': 'configureEModeCategory', 'outputs': [], 'stateMutability': 'nonpayable', 'type': 'function'}, {'inputs': [{'internalType': 'address', 'name': 'asset', 'type': 'address'}, {'internalType': 'uint256', 'name': 'amount', 'type': 'uint256'}, {'internalType': 'address', 'name': 'onBehalfOf', 'type': 'address'}, {'internalType': 'uint16', 'name': 'referralCode', 'type': 'uint16'}], 'name': 'deposit', 'outputs': [], 'stateMutability': 'nonpayable', 'type': 'function'}, {'inputs': [{'internalType': 'address', 'name': 'asset', 'type': 'address'}], 'name': 'dropReserve', 'outputs': [], 'stateMutability': 'nonpayable', 'type': 'function'}, {'inputs': [{'internalType': 'address', 'name': 'asset', 'type': 'address'}, {'internalType': 'address', 'name': 'from', 'type': 'address'}, {'internalType': 'address', 'name': 'to', 'type': 'address'}, {'internalType': 'uint256', 'name': 'amount', 'type': 'uint256'}, {'internalType': 'uint256', 'name': 'balanceFromBefore', 'type': 'uint256'}, {'internalType': 'uint256', 'name': 'balanceToBefore', 'type': 'uint256'}], 'name': 'finalizeTransfer', 'outputs': [], 'stateMutability': 'nonpayable', 'type': 'function'}, {'inputs': [{'internalType': 'address', 'name': 'receiverAddress', 'type': 'address'}, {'internalType': 'address[]', 'name': 'assets', 'type': 'address[]'}, {'internalType': 'uint256[]', 'name': 'amounts', 'type': 'uint256[]'}, {'internalType': 'uint256[]', 'name': 'interestRateModes', 'type': 'uint256[]'}, {'internalType': 'address', 'name': 'onBehalfOf', 'type': 'address'}, {'internalType': 'bytes', 'name': 'params', 'type': 'bytes'}, {'internalType': 'uint16', 'name': 'referralCode', 'type': 'uint16'}], 'name': 'flashLoan', 'outputs': [], 'stateMutability': 'nonpayable', 'type': 'function'}, {'inputs': [{'internalType': 'address', 'name': 'receiverAddress', 'type': 'address'}, {'internalType': 'address', 'name': 'asset', 'type': 'address'}, {'internalType': 'uint256', 'name': 'amount', 'type': 'uint256'}, {'internalType': 'bytes', 'name': 'params', 'type': 'bytes'}, {'internalType': 'uint16', 'name': 'referralCode', 'type': 'uint16'}], 'name': 'flashLoanSimple', 'outputs': [], 'stateMutability': 'nonpayable', 'type': 'function'}, {'inputs': [{'internalType': 'address', 'name': 'asset', 'type': 'address'}], 'name': 'getConfiguration', 'outputs': [{'components': [{'internalType': 'uint256', 'name': 'data', 'type': 'uint256'}], 'internalType': 'struct DataTypes.ReserveConfigurationMap', 'name': '', 'type': 'tuple'}], 'stateMutability': 'view', 'type': 'function'}, {'inputs': [{'internalType': 'uint8', 'name': 'id', 'type': 'uint8'}], 'name': 'getEModeCategoryData', 'outputs': [{'components': [{'internalType': 'uint16', 'name': 'ltv', 'type': 'uint16'}, {'internalType': 'uint16', 'name': 'liquidationThreshold', 'type': 'uint16'}, {'internalType': 'uint16', 'name': 'liquidationBonus', 'type': 'uint16'}, {'internalType': 'address', 'name': 'priceSource', 'type': 'address'}, {'internalType': 'string', 'name': 'label', 'type': 'string'}], 'internalType': 'struct DataTypes.EModeCategory', 'name': '', 'type': 'tuple'}], 'stateMutability': 'view', 'type': 'function'}, {'inputs': [{'internalType': 'uint16', 'name': 'id', 'type': 'uint16'}], 'name': 'getReserveAddressById', 'outputs': [{'internalType': 'address', 'name': '', 'type': 'address'}], 'stateMutability': 'view', 'type': 'function'}, {'inputs': [{'internalType': 'address', 'name': 'asset', 'type': 'address'}], 'name': 'getReserveData', 'outputs': [{'components': [{'components': [{'internalType': 'uint256', 'name': 'data', 'type': 'uint256'}], 'internalType': 'struct DataTypes.ReserveConfigurationMap', 'name': 'configuration', 'type': 'tuple'}, {'internalType': 'uint128', 'name': 'liquidityIndex', 'type': 'uint128'}, {'internalType': 'uint128', 'name': 'currentLiquidityRate', 'type': 'uint128'}, {'internalType': 'uint128', 'name': 'variableBorrowIndex', 'type': 'uint128'}, {'internalType': 'uint128', 'name': 'currentVariableBorrowRate', 'type': 'uint128'}, {'internalType': 'uint128', 'name': 'currentStableBorrowRate', 'type': 'uint128'}, {'internalType': 'uint40', 'name': 'lastUpdateTimestamp', 'type': 'uint40'}, {'internalType': 'uint16', 'name': 'id', 'type': 'uint16'}, {'internalType': 'address', 'name': 'aTokenAddress', 'type': 'address'}, {'internalType': 'address', 'name': 'stableDebtTokenAddress', 'type': 'address'}, {'internalType': 'address', 'name': 'variableDebtTokenAddress', 'type': 'address'}, {'internalType': 'address', 'name': 'interestRateStrategyAddress', 'type': 'address'}, {'internalType': 'uint128', 'name': 'accruedToTreasury', 'type': 'uint128'}, {'internalType': 'uint128', 'name': 'unbacked', 'type': 'uint128'}, {'internalType': 'uint128', 'name': 'isolationModeTotalDebt', 'type': 'uint128'}], 'internalType': 'struct DataTypes.ReserveData', 'name': '', 'type': 'tuple'}], 'stateMutability': 'view', 'type': 'function'}, {'inputs': [{'internalType': 'address', 'name': 'asset', 'type': 'address'}], 'name': 'getReserveNormalizedIncome', 'outputs': [{'internalType': 'uint256', 'name': '', 'type': 'uint256'}], 'stateMutability': 'view', 'type': 'function'}, {'inputs': [{'internalType': 'address', 'name': 'asset', 'type': 'address'}], 'name': 'getReserveNormalizedVariableDebt', 'outputs': [{'internalType': 'uint256', 'name': '', 'type': 'uint256'}], 'stateMutability': 'view', 'type': 'function'}, {'inputs': [], 'name': 'getReservesList', 'outputs': [{'internalType': 'address[]', 'name': '', 'type': 'address[]'}], 'stateMutability': 'view', 'type': 'function'}, {'inputs': [{'internalType': 'address', 'name': 'user', 'type': 'address'}], 'name': 'getUserAccountData', 'outputs': [{'internalType': 'uint256', 'name': 'totalCollateralBase', 'type': 'uint256'}, {'internalType': 'uint256', 'name': 'totalDebtBase', 'type': 'uint256'}, {'internalType': 'uint256', 'name': 'availableBorrowsBase', 'type': 'uint256'}, {'internalType': 'uint256', 'name': 'currentLiquidationThreshold', 'type': 'uint256'}, {'internalType': 'uint256', 'name': 'ltv', 'type': 'uint256'}, {'internalType': 'uint256', 'name': 'healthFactor', 'type': 'uint256'}], 'stateMutability': 'view', 'type': 'function'}, {'inputs': [{'internalType': 'address', 'name': 'user', 'type': 'address'}], 'name': 'getUserConfiguration', 'outputs': [{'components': [{'internalType': 'uint256', 'name': 'data', 'type': 'uint256'}], 'internalType': 'struct DataTypes.UserConfigurationMap', 'name': '', 'type': 'tuple'}], 'stateMutability': 'view', 'type': 'function'}, {'inputs': [{'internalType': 'address', 'name': 'user', 'type': 'address'}], 'name': 'getUserEMode', 'outputs': [{'internalType': 'uint256', 'name': '', 'type': 'uint256'}], 'stateMutability': 'view', 'type': 'function'}, {'inputs': [{'internalType': 'address', 'name': 'asset', 'type': 'address'}, {'internalType': 'address', 'name': 'aTokenAddress', 'type': 'address'}, {'internalType': 'address', 'name': 'stableDebtAddress', 'type': 'address'}, {'internalType': 'address', 'name': 'variableDebtAddress', 'type': 'address'}, {'internalType': 'address', 'name': 'interestRateStrategyAddress', 'type': 'address'}], 'name': 'initReserve', 'outputs': [], 'stateMutability': 'nonpayable', 'type': 'function'}, {'inputs': [{'internalType': 'contract IPoolAddressesProvider', 'name': 'provider', 'type': 'address'}], 'name': 'initialize', 'outputs': [], 'stateMutability': 'nonpayable', 'type': 'function'}, {'inputs': [{'internalType': 'address', 'name': 'collateralAsset', 'type': 'address'}, {'internalType': 'address', 'name': 'debtAsset', 'type': 'address'}, {'internalType': 'address', 'name': 'user', 'type': 'address'}, {'internalType': 'uint256', 'name': 'debtToCover', 'type': 'uint256'}, {'internalType': 'bool', 'name': 'receiveAToken', 'type': 'bool'}], 'name': 'liquidationCall', 'outputs': [], 'stateMutability': 'nonpayable', 'type': 'function'}, {'inputs': [{'internalType': 'address[]', 'name': 'assets', 'type': 'address[]'}], 'name': 'mintToTreasury', 'outputs': [], 'stateMutability': 'nonpayable', 'type': 'function'}, {'inputs': [{'internalType': 'address', 'name': 'asset', 'type': 'address'}, {'internalType': 'uint256', 'name': 'amount', 'type': 'uint256'}, {'internalType': 'address', 'name': 'onBehalfOf', 'type': 'address'}, {'internalType': 'uint16', 'name': 'referralCode', 'type': 'uint16'}], 'name': 'mintUnbacked', 'outputs': [], 'stateMutability': 'nonpayable', 'type': 'function'}, {'inputs': [{'internalType': 'address', 'name': 'asset', 'type': 'address'}, {'internalType': 'address', 'name': 'user', 'type': 'address'}], 'name': 'rebalanceStableBorrowRate', 'outputs': [], 'stateMutability': 'nonpayable', 'type': 'function'}, {'inputs': [{'internalType': 'address', 'name': 'asset', 'type': 'address'}, {'internalType': 'uint256', 'name': 'amount', 'type': 'uint256'}, {'internalType': 'uint256', 'name': 'interestRateMode', 'type': 'uint256'}, {'internalType': 'address', 'name': 'onBehalfOf', 'type': 'address'}], 'name': 'repay', 'outputs': [{'internalType': 'uint256', 'name': '', 'type': 'uint256'}], 'stateMutability': 'nonpayable', 'type': 'function'}, {'inputs': [{'internalType': 'address', 'name': 'asset', 'type': 'address'}, {'internalType': 'uint256', 'name': 'amount', 'type': 'uint256'}, {'internalType': 'uint256', 'name': 'interestRateMode', 'type': 'uint256'}], 'name': 'repayWithATokens', 'outputs': [{'internalType': 'uint256', 'name': '', 'type': 'uint256'}], 'stateMutability': 'nonpayable', 'type': 'function'}, {'inputs': [{'internalType': 'address', 'name': 'asset', 'type': 'address'}, {'internalType': 'uint256', 'name': 'amount', 'type': 'uint256'}, {'internalType': 'uint256', 'name': 'interestRateMode', 'type': 'uint256'}, {'internalType': 'address', 'name': 'onBehalfOf', 'type': 'address'}, {'internalType': 'uint256', 'name': 'deadline', 'type': 'uint256'}, {'internalType': 'uint8', 'name': 'permitV', 'type': 'uint8'}, {'internalType': 'bytes32', 'name': 'permitR', 'type': 'bytes32'}, {'internalType': 'bytes32', 'name': 'permitS', 'type': 'bytes32'}], 'name': 'repayWithPermit', 'outputs': [{'internalType': 'uint256', 'name': '', 'type': 'uint256'}], 'stateMutability': 'nonpayable', 'type': 'function'}, {'inputs': [{'internalType': 'address', 'name': 'token', 'type': 'address'}, {'internalType': 'address', 'name': 'to', 'type': 'address'}, {'internalType': 'uint256', 'name': 'amount', 'type': 'uint256'}], 'name': 'rescueTokens', 'outputs': [], 'stateMutability': 'nonpayable', 'type': 'function'}, {'inputs': [{'internalType': 'address', 'name': 'asset', 'type': 'address'}], 'name': 'resetIsolationModeTotalDebt', 'outputs': [], 'stateMutability': 'nonpayable', 'type': 'function'}, {'inputs': [{'internalType': 'address', 'name': 'asset', 'type': 'address'}, {'components': [{'internalType': 'uint256', 'name': 'data', 'type': 'uint256'}], 'internalType': 'struct DataTypes.ReserveConfigurationMap', 'name': 'configuration', 'type': 'tuple'}], 'name': 'setConfiguration', 'outputs': [], 'stateMutability': 'nonpayable', 'type': 'function'}, {'inputs': [{'internalType': 'address', 'name': 'asset', 'type': 'address'}, {'internalType': 'address', 'name': 'rateStrategyAddress', 'type': 'address'}], 'name': 'setReserveInterestRateStrategyAddress', 'outputs': [], 'stateMutability': 'nonpayable', 'type': 'function'}, {'inputs': [{'internalType': 'uint8', 'name': 'categoryId', 'type': 'uint8'}], 'name': 'setUserEMode', 'outputs': [], 'stateMutability': 'nonpayable', 'type': 'function'}, {'inputs': [{'internalType': 'address', 'name': 'asset', 'type': 'address'}, {'internalType': 'bool', 'name': 'useAsCollateral', 'type': 'bool'}], 'name': 'setUserUseReserveAsCollateral', 'outputs': [], 'stateMutability': 'nonpayable', 'type': 'function'}, {'inputs': [{'internalType': 'address', 'name': 'asset', 'type': 'address'}, {'internalType': 'uint256', 'name': 'amount', 'type': 'uint256'}, {'internalType': 'address', 'name': 'onBehalfOf', 'type': 'address'}, {'internalType': 'uint16', 'name': 'referralCode', 'type': 'uint16'}], 'name': 'supply', 'outputs': [], 'stateMutability': 'nonpayable', 'type': 'function'}, {'inputs': [{'internalType': 'address', 'name': 'asset', 'type': 'address'}, {'internalType': 'uint256', 'name': 'amount', 'type': 'uint256'}, {'internalType': 'address', 'name': 'onBehalfOf', 'type': 'address'}, {'internalType': 'uint16', 'name': 'referralCode', 'type': 'uint16'}, {'internalType': 'uint256', 'name': 'deadline', 'type': 'uint256'}, {'internalType': 'uint8', 'name': 'permitV', 'type': 'uint8'}, {'internalType': 'bytes32', 'name': 'permitR', 'type': 'bytes32'}, {'internalType': 'bytes32', 'name': 'permitS', 'type': 'bytes32'}], 'name': 'supplyWithPermit', 'outputs': [], 'stateMutability': 'nonpayable', 'type': 'function'}, {'inputs': [{'internalType': 'address', 'name': 'asset', 'type': 'address'}, {'internalType': 'uint256', 'name': 'interestRateMode', 'type': 'uint256'}], 'name': 'swapBorrowRateMode', 'outputs': [], 'stateMutability': 'nonpayable', 'type': 'function'}, {'inputs': [{'internalType': 'uint256', 'name': 'protocolFee', 'type': 'uint256'}], 'name': 'updateBridgeProtocolFee', 'outputs': [], 'stateMutability': 'nonpayable', 'type': 'function'}, {'inputs': [{'internalType': 'uint128', 'name': 'flashLoanPremiumTotal', 'type': 'uint128'}, {'internalType': 'uint128', 'name': 'flashLoanPremiumToProtocol', 'type': 'uint128'}], 'name': 'updateFlashloanPremiums', 'outputs': [], 'stateMutability': 'nonpayable', 'type': 'function'}, {'inputs': [{'internalType': 'address', 'name': 'asset', 'type': 'address'}, {'internalType': 'uint256', 'name': 'amount', 'type': 'uint256'}, {'internalType': 'address', 'name': 'to', 'type': 'address'}], 'name': 'withdraw', 'outputs': [{'internalType': 'uint256', 'name': '', 'type': 'uint256'}], 'stateMutability': 'nonpayable', 'type': 'function'}]\n"
     ]
    }
   ],
   "source": [
    "with open('build/contracts/Pool.json') as abi_json:\n",
    "        projects_abi = json.load(abi_json)\n",
    "        print(projects_abi[\"abi\"])"
   ]
  },
  {
   "cell_type": "code",
   "execution_count": null,
   "id": "c0687464-f1e4-455a-8831-cad13171c949",
   "metadata": {},
   "outputs": [],
   "source": []
  }
 ],
 "metadata": {
  "kernelspec": {
   "display_name": "vyper",
   "language": "python",
   "name": "vyper"
  },
  "language_info": {
   "codemirror_mode": {
    "name": "ipython",
    "version": 3
   },
   "file_extension": ".py",
   "mimetype": "text/x-python",
   "name": "python",
   "nbconvert_exporter": "python",
   "pygments_lexer": "ipython3",
   "version": "3.9.13"
  }
 },
 "nbformat": 4,
 "nbformat_minor": 5
}
